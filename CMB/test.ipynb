{
 "cells": [
  {
   "cell_type": "code",
   "execution_count": 1,
   "metadata": {},
   "outputs": [],
   "source": [
    "import numpy as np\n",
    "import pandas as pd\n",
    "import seaborn as sns\n",
    "import os\n",
    "import sys\n",
    "sys.path.append(\"..\")\n",
    "from vgp.vgp_sqExp import vgp_sqExp\n",
    "from datetime import datetime\n",
    "import math"
   ]
  },
  {
   "cell_type": "code",
   "execution_count": 2,
   "metadata": {},
   "outputs": [
    {
     "data": {
      "text/html": [
       "<div>\n",
       "<style scoped>\n",
       "    .dataframe tbody tr th:only-of-type {\n",
       "        vertical-align: middle;\n",
       "    }\n",
       "\n",
       "    .dataframe tbody tr th {\n",
       "        vertical-align: top;\n",
       "    }\n",
       "\n",
       "    .dataframe thead th {\n",
       "        text-align: right;\n",
       "    }\n",
       "</style>\n",
       "<table border=\"1\" class=\"dataframe\">\n",
       "  <thead>\n",
       "    <tr style=\"text-align: right;\">\n",
       "      <th></th>\n",
       "      <th>0</th>\n",
       "      <th>1</th>\n",
       "      <th>2</th>\n",
       "    </tr>\n",
       "  </thead>\n",
       "  <tbody>\n",
       "    <tr>\n",
       "      <th>0</th>\n",
       "      <td>0.0</td>\n",
       "      <td>0.0</td>\n",
       "      <td>266.0</td>\n",
       "    </tr>\n",
       "    <tr>\n",
       "      <th>1</th>\n",
       "      <td>0.0</td>\n",
       "      <td>1.0</td>\n",
       "      <td>256.0</td>\n",
       "    </tr>\n",
       "    <tr>\n",
       "      <th>2</th>\n",
       "      <td>0.0</td>\n",
       "      <td>2.0</td>\n",
       "      <td>203.0</td>\n",
       "    </tr>\n",
       "    <tr>\n",
       "      <th>3</th>\n",
       "      <td>0.0</td>\n",
       "      <td>3.0</td>\n",
       "      <td>106.0</td>\n",
       "    </tr>\n",
       "    <tr>\n",
       "      <th>4</th>\n",
       "      <td>0.0</td>\n",
       "      <td>4.0</td>\n",
       "      <td>136.0</td>\n",
       "    </tr>\n",
       "  </tbody>\n",
       "</table>\n",
       "</div>"
      ],
      "text/plain": [
       "     0    1      2\n",
       "0  0.0  0.0  266.0\n",
       "1  0.0  1.0  256.0\n",
       "2  0.0  2.0  203.0\n",
       "3  0.0  3.0  106.0\n",
       "4  0.0  4.0  136.0"
      ]
     },
     "execution_count": 2,
     "metadata": {},
     "output_type": "execute_result"
    }
   ],
   "source": [
    "im0 = pd.read_csv(\"data/comm18_cut_masked_id0.txt\", sep=\" \", header=None)\n",
    "N = int(math.sqrt(im0.shape[0]))\n",
    "im0.head()"
   ]
  },
  {
   "cell_type": "code",
   "execution_count": 3,
   "metadata": {},
   "outputs": [],
   "source": [
    "from sklearn.model_selection import train_test_split\n",
    "X = im0[[0, 1]].to_numpy()\n",
    "y = im0[2].to_numpy()\n",
    "X_train, X_test, y_train, y_test = train_test_split(X, y, test_size=0.10, random_state=1)\n",
    "y_train = y_train.reshape((y_train.shape[0], 1))\n",
    "y_test = y_test.reshape((y_test.shape[0], 1))"
   ]
  },
  {
   "cell_type": "code",
   "execution_count": 4,
   "metadata": {},
   "outputs": [],
   "source": [
    "def inducingInputsGenerator(X, sqrtNumInduce):\n",
    "    p = np.linspace(0, 1, sqrtNumInduce+2)[1:sqrtNumInduce+1]\n",
    "    quantiles = np.quantile(X, p, axis=0)\n",
    "    X_inducing = np.zeros((sqrtNumInduce*sqrtNumInduce, 2))\n",
    "    for i in range(sqrtNumInduce):\n",
    "        for j in range(sqrtNumInduce):\n",
    "            index_num = sqrtNumInduce*i + j\n",
    "            X_inducing[index_num, 0] = quantiles[i, 0]\n",
    "            X_inducing[index_num, 1] = quantiles[j, 1]\n",
    "    \n",
    "    return X_inducing"
   ]
  },
  {
   "cell_type": "code",
   "execution_count": 5,
   "metadata": {},
   "outputs": [
    {
     "name": "stdout",
     "output_type": "stream",
     "text": [
      "F(X|sigmaSqf=0.001, lscale=1e-05, varErr=1)=-2.4221612851200055e+245\n",
      "F(X|sigmaSqf=0.001, lscale=0.0001, varErr=1)=-4.989190181066027e+248\n"
     ]
    },
    {
     "name": "stderr",
     "output_type": "stream",
     "text": [
      "../vgp/methods/hyperparamOptimization.py:116: RuntimeWarning: overflow encountered in double_scalars\n",
      "  np.linalg.det(KmmInv)\n"
     ]
    },
    {
     "name": "stdout",
     "output_type": "stream",
     "text": [
      "F(X|sigmaSqf=0.001, lscale=0.001, varErr=1)=-inf\n",
      "F(X|sigmaSqf=0.001, lscale=0.01, varErr=1)=-inf\n",
      "F(X|sigmaSqf=0.001, lscale=0.1, varErr=1)=-inf\n",
      "F(X|sigmaSqf=0.001, lscale=1.0, varErr=1)=-2.117566615711997e+109\n",
      "F(X|sigmaSqf=0.01, lscale=1e-05, varErr=1)=-1.2242103002677608e+155\n",
      "F(X|sigmaSqf=0.01, lscale=0.0001, varErr=1)=-4.480096181592168e+155\n",
      "F(X|sigmaSqf=0.01, lscale=0.001, varErr=1)=-3.172951697464282e+228\n",
      "F(X|sigmaSqf=0.01, lscale=0.01, varErr=1)=-inf\n",
      "F(X|sigmaSqf=0.01, lscale=0.1, varErr=1)=-1.1048987854539757e+297\n",
      "F(X|sigmaSqf=0.01, lscale=1.0, varErr=1)=-8.595786392757853e+80\n",
      "F(X|sigmaSqf=0.1, lscale=1e-05, varErr=1)=-3.24140866870766e+70\n",
      "F(X|sigmaSqf=0.1, lscale=0.0001, varErr=1)=-4.3543072834061095e+70\n",
      "F(X|sigmaSqf=0.1, lscale=0.001, varErr=1)=-3.0324211342947297e+130\n",
      "F(X|sigmaSqf=0.1, lscale=0.01, varErr=1)=-8.318076022238704e+227\n",
      "F(X|sigmaSqf=0.1, lscale=0.1, varErr=1)=-3.663929672641328e+204\n",
      "F(X|sigmaSqf=0.1, lscale=1.0, varErr=1)=-5.51465715880829e+56\n",
      "F(X|sigmaSqf=0.25, lscale=1e-05, varErr=1)=-1.3091945352131885e+43\n",
      "F(X|sigmaSqf=0.25, lscale=0.0001, varErr=1)=-1.5839123700374668e+43\n",
      "F(X|sigmaSqf=0.25, lscale=0.001, varErr=1)=-6.277579157069988e+93\n",
      "F(X|sigmaSqf=0.25, lscale=0.01, varErr=1)=-2.9461791385725755e+188\n",
      "F(X|sigmaSqf=0.25, lscale=0.1, varErr=1)=-1.8764524812615547e+170\n",
      "F(X|sigmaSqf=0.25, lscale=1.0, varErr=1)=-2.0223159146260695e+48\n",
      "F(X|sigmaSqf=0.5, lscale=1e-05, varErr=1)=-1.237940039285432e+27\n",
      "F(X|sigmaSqf=0.5, lscale=0.0001, varErr=1)=-1.4117912157903977e+27\n",
      "F(X|sigmaSqf=0.5, lscale=0.001, varErr=1)=-2.660221686163059e+68\n",
      "F(X|sigmaSqf=0.5, lscale=0.01, varErr=1)=-8.554758110756154e+158\n",
      "F(X|sigmaSqf=0.5, lscale=0.1, varErr=1)=-5.194371023201246e+145\n",
      "F(X|sigmaSqf=0.5, lscale=1.0, varErr=1)=-2.2969203139456125e+42\n",
      "F(X|sigmaSqf=0.75, lscale=1e-05, varErr=1)=-7.712696100725457e+19\n",
      "F(X|sigmaSqf=0.75, lscale=0.0001, varErr=1)=-8.54154020357263e+19\n",
      "F(X|sigmaSqf=0.75, lscale=0.001, varErr=1)=-1.1950076704276845e+55\n",
      "F(X|sigmaSqf=0.75, lscale=0.01, varErr=1)=-7.613192889138864e+141\n",
      "F(X|sigmaSqf=0.75, lscale=0.1, varErr=1)=-1.0148228426197223e+132\n",
      "F(X|sigmaSqf=0.75, lscale=1.0, varErr=1)=-1.1248023372051897e+39\n",
      "F(X|sigmaSqf=0.9, lscale=1e-05, varErr=1)=-1.4472811045687952e+17\n",
      "F(X|sigmaSqf=0.9, lscale=0.0001, varErr=1)=-1.5839392864702045e+17\n",
      "F(X|sigmaSqf=0.9, lscale=0.001, varErr=1)=-3.3703283103511693e+49\n",
      "F(X|sigmaSqf=0.9, lscale=0.01, varErr=1)=-1.9725772753910647e+134\n",
      "F(X|sigmaSqf=0.9, lscale=0.1, varErr=1)=-1.0369145552987022e+126\n",
      "F(X|sigmaSqf=0.9, lscale=1.0, varErr=1)=-4.0055590965233136e+37\n",
      "F(X|sigmaSqf=0.99, lscale=1e-05, varErr=1)=-7179888856328690.0\n",
      "F(X|sigmaSqf=0.99, lscale=0.0001, varErr=1)=-7812102259818923.0\n",
      "F(X|sigmaSqf=0.99, lscale=0.001, varErr=1)=-5.616784065364128e+46\n",
      "F(X|sigmaSqf=0.99, lscale=0.01, varErr=1)=-2.256746334253245e+130\n",
      "F(X|sigmaSqf=0.99, lscale=0.1, varErr=1)=-8.491935177193371e+122\n",
      "F(X|sigmaSqf=0.99, lscale=1.0, varErr=1)=-7.168530313847289e+36\n",
      "F(X|sigmaSqf=0.999, lscale=1e-05, varErr=1)=-5450786416385979.0\n",
      "F(X|sigmaSqf=0.999, lscale=0.0001, varErr=1)=-5927536347300395.0\n",
      "F(X|sigmaSqf=0.999, lscale=0.001, varErr=1)=-3.0919788576353893e+46\n",
      "F(X|sigmaSqf=0.999, lscale=0.01, varErr=1)=-9.553763682836021e+129\n",
      "F(X|sigmaSqf=0.999, lscale=0.1, varErr=1)=-4.3405955426214685e+122\n",
      "F(X|sigmaSqf=0.999, lscale=1.0, varErr=1)=-6.093062042570644e+36\n",
      "sigmaSqf=0.001, lscale=1e-05, varErr=1\n",
      "sqrt(m)=10: Test RMSE=103.15580272799332.\n"
     ]
    }
   ],
   "source": [
    "sigmaSqf = 0.0001\n",
    "lscale = 0.01\n",
    "varErr = 0.00001\n",
    "\n",
    "errs = []\n",
    "for sqrtNumInduce in [10]:\n",
    "    X_inducing = inducingInputsGenerator(X, sqrtNumInduce)\n",
    "            \n",
    "    gpImage = vgp_sqExp(X_train,\n",
    "                        y_train,\n",
    "                        X_inducing,\n",
    "                        sigmaSqf,\n",
    "                        lscale,\n",
    "                        varErr)\n",
    "    gpImage.optimizeHyperparams(showPath=False)\n",
    "    gpImage.train()\n",
    "    print(\"sqrt(m)=\"+str(sqrtNumInduce), end=\": \")\n",
    "    pred = gpImage.predictMean(X_test, \n",
    "                          y_test, \n",
    "                          True)\n",
    "    errs.append(np.linalg.norm(pred-y_test)/math.sqrt(pred.shape[0]))"
   ]
  },
  {
   "cell_type": "code",
   "execution_count": null,
   "metadata": {},
   "outputs": [],
   "source": []
  }
 ],
 "metadata": {
  "kernelspec": {
   "display_name": "Python 3",
   "language": "python",
   "name": "python3"
  },
  "language_info": {
   "codemirror_mode": {
    "name": "ipython",
    "version": 3
   },
   "file_extension": ".py",
   "mimetype": "text/x-python",
   "name": "python",
   "nbconvert_exporter": "python",
   "pygments_lexer": "ipython3",
   "version": "3.7.6"
  }
 },
 "nbformat": 4,
 "nbformat_minor": 4
}
